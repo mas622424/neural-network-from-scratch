{
  "nbformat": 4,
  "nbformat_minor": 0,
  "metadata": {
    "colab": {
      "provenance": [],
      "authorship_tag": "ABX9TyPFMxHfbdTeYAShoFDBfIR4",
      "include_colab_link": true
    },
    "kernelspec": {
      "name": "python3",
      "display_name": "Python 3"
    },
    "language_info": {
      "name": "python"
    }
  },
  "cells": [
    {
      "cell_type": "markdown",
      "metadata": {
        "id": "view-in-github",
        "colab_type": "text"
      },
      "source": [
        "<a href=\"https://colab.research.google.com/github/mas622424/neural-network-from-scratch/blob/main/Neural_network_from_scratch.ipynb\" target=\"_parent\"><img src=\"https://colab.research.google.com/assets/colab-badge.svg\" alt=\"Open In Colab\"/></a>"
      ]
    },
    {
      "cell_type": "markdown",
      "source": [
        "MNIST data"
      ],
      "metadata": {
        "id": "-4XftcnwKQJz"
      }
    },
    {
      "cell_type": "markdown",
      "source": [
        "28x28 training images, 784 pixels overall.each pixel value between 0 to 255, 0 is black and 255 is white, we have m of these images and we can represent this as image"
      ],
      "metadata": {
        "id": "V6ssOLNSLyFO"
      }
    },
    {
      "cell_type": "markdown",
      "source": [
        "create a matrix with numpy and pandas representing the matrix, 784 rows and m columns"
      ],
      "metadata": {
        "id": "W2w513PHMM4S"
      }
    },
    {
      "cell_type": "markdown",
      "source": [
        "we take this image and do some processing , and do the prediction. we are gonna build a neural network with two nodes, 784 nodes input(zeroth) layer, 10 units hidden (first) layer and 10 units output(second) layer each corresponding to one digit."
      ],
      "metadata": {
        "id": "w9GF2Iq3Mqu4"
      }
    },
    {
      "cell_type": "markdown",
      "source": [
        "there are three parts to training this network, the first part is forward propogation(take a image and run it hrough this network, and compute what is your output. A^[0] = X(784xm), A^[0] is the input layer. Z^[1](10xm) =W^[1](10x784)A^[1](784xm) + b^[1].(10x1).here z^[1] is first hidden layer.W^[1] is bunch of weights correspond to each of these 784 connections, and we are gonna add a constant bias node to each of the node, and we are gonna add a activation function to it , if we didnot apply this activation function, each node would be a linear combination of the nodes before + bias term.second layer will become linear combination of first layer , but first layer is already a linear combination of nodes of input layer, so the second layer will be linear combination of input layer, like the first hidden layer does not exist at all. So if you only have linear combinations, only weights and biases , we never gonna get a interesting function. and it is like we are doing a linear regression.So we apply a activation function, commonly used are tanh and sigmoid.(add graphs of both funtions).once you apply these functions, we you move to second layer more complexity is added and it is no longer linear."
      ],
      "metadata": {
        "id": "_dZuEEOBN31k"
      }
    },
    {
      "cell_type": "markdown",
      "source": [
        "I am using a another commonly used function (ReLU=Rectified Linear Unit)(add a graph).\n",
        "A^[1]=g(Z^[1])=ReLU(Z^[1]).\n",
        "then we move to layer 2 from layer 1,\n",
        "Z^[2](10xm)=w^[2](10x10)A^[1](10xm) + b^[2](10x1), A^[2]=softmax(z^[2]), we applied softmax here,because we want the output layer to have a probability between 0 and 1.(add equation of the softmax function and graph of it)."
      ],
      "metadata": {
        "id": "N-5m9itiS5UI"
      }
    },
    {
      "cell_type": "markdown",
      "source": [
        "what we need are good weights and biases to make these predictions, we use algorithms to run these weights and optimize them.we gonna use the backwards propagation.\n",
        "once the prediction is done, we go in reverse order and check how much it deviated from the actual label and check the contribution of the weights and biases in this error, and adjust them.\n",
        "dz^[2]=A^[2] - Y , dz^[2] is the error.then we are going to one hot encode the actual label.If we want to subtract four from the actual label , we donot subtract it directly , we encode the actual label and add 4 to the fourth index , representing fourth class of the matrix is one, everything else is zero.from there we use math to find contribution of w and b in this error.dw^[2](10x10)=[(dz^[2](10xm)A^[1](mx10))^T]/m , this is the derivative of loss function w.r.t weights in layer 2,\n",
        "db^[2](10x1)=summation(dz^[2])/m, this is the average of the absolute error of the second layer."
      ],
      "metadata": {
        "id": "wAL8at9pejJ_"
      }
    },
    {
      "cell_type": "markdown",
      "source": [
        "similarly for the first hidden layer,\n",
        "dz^[1](10xm)=[w^[2]]^T(10x10) dz^[2](10xm) * g'(z), we are taking the error from the second layer and applying the weights to it in reverse to get to it.we are also taking prime of activation function to undon the activation function to get the proper error for the first layer.we do the same to calculate how much w and b contributed to the error in first layer. dw^[1](10x784)=(dz^[1](10xm)x^T(mx784))/m, db^[1](10x1)=summation(dz^[1](10x1))/m."
      ],
      "metadata": {
        "id": "pnzPnPDusKZD"
      }
    },
    {
      "cell_type": "markdown",
      "source": [
        "after calculating everything, we update our terms accordingly, w^[1]=w^[1]-alpha(dw^[1]),  b^[1]=b^[1]-alpha(db^[1]),  w^[2]=w^[2]-alpha(dw^[2]),  b^[2]=b^[2]-alpha(db^[2]). alpha is learning rate.\n",
        "alpha is a trained parameter, it is not trained by the model. when you run the cycle,when you run the gradient descent, the learning is a parameter we set, not the gradient descent set."
      ],
      "metadata": {
        "id": "REp93BMmazOz"
      }
    },
    {
      "cell_type": "markdown",
      "source": [
        "once we set , we go through the whole round again, we go through the forward propagation,make predictions,tweaking parameters untill the prediction is closer to the actual label."
      ],
      "metadata": {
        "id": "HcYnRV4gcoHB"
      }
    },
    {
      "cell_type": "code",
      "execution_count": null,
      "metadata": {
        "id": "BnnRhO9MKKhu"
      },
      "outputs": [],
      "source": [
        "#importing libraries\n",
        "import numpy as np # for linear algebra for working with matrices\n",
        "import pandas as pd # for reading the data\n",
        "import matplotlib.pyplot as plt"
      ]
    },
    {
      "cell_type": "code",
      "source": [
        "data=pd.read_csv('/content/train.csv') # loading pandas dataframe"
      ],
      "metadata": {
        "id": "enZx-WvJdZBC"
      },
      "execution_count": null,
      "outputs": []
    },
    {
      "cell_type": "code",
      "source": [
        "data.head() #preview of data"
      ],
      "metadata": {
        "colab": {
          "base_uri": "https://localhost:8080/",
          "height": 255
        },
        "id": "Ei-FkESQe7bz",
        "outputId": "6487545d-d313-4459-9799-b6c9a4f27159"
      },
      "execution_count": null,
      "outputs": [
        {
          "output_type": "execute_result",
          "data": {
            "text/plain": [
              "   label  pixel0  pixel1  pixel2  pixel3  pixel4  pixel5  pixel6  pixel7  \\\n",
              "0      1       0       0       0       0       0       0       0       0   \n",
              "1      0       0       0       0       0       0       0       0       0   \n",
              "2      1       0       0       0       0       0       0       0       0   \n",
              "3      4       0       0       0       0       0       0       0       0   \n",
              "4      0       0       0       0       0       0       0       0       0   \n",
              "\n",
              "   pixel8  ...  pixel774  pixel775  pixel776  pixel777  pixel778  pixel779  \\\n",
              "0       0  ...         0         0         0         0         0         0   \n",
              "1       0  ...         0         0         0         0         0         0   \n",
              "2       0  ...         0         0         0         0         0         0   \n",
              "3       0  ...         0         0         0         0         0         0   \n",
              "4       0  ...         0         0         0         0         0         0   \n",
              "\n",
              "   pixel780  pixel781  pixel782  pixel783  \n",
              "0         0         0         0         0  \n",
              "1         0         0         0         0  \n",
              "2         0         0         0         0  \n",
              "3         0         0         0         0  \n",
              "4         0         0         0         0  \n",
              "\n",
              "[5 rows x 785 columns]"
            ],
            "text/html": [
              "\n",
              "  <div id=\"df-7dc6df37-599b-4eda-a80e-8fdeb754af88\" class=\"colab-df-container\">\n",
              "    <div>\n",
              "<style scoped>\n",
              "    .dataframe tbody tr th:only-of-type {\n",
              "        vertical-align: middle;\n",
              "    }\n",
              "\n",
              "    .dataframe tbody tr th {\n",
              "        vertical-align: top;\n",
              "    }\n",
              "\n",
              "    .dataframe thead th {\n",
              "        text-align: right;\n",
              "    }\n",
              "</style>\n",
              "<table border=\"1\" class=\"dataframe\">\n",
              "  <thead>\n",
              "    <tr style=\"text-align: right;\">\n",
              "      <th></th>\n",
              "      <th>label</th>\n",
              "      <th>pixel0</th>\n",
              "      <th>pixel1</th>\n",
              "      <th>pixel2</th>\n",
              "      <th>pixel3</th>\n",
              "      <th>pixel4</th>\n",
              "      <th>pixel5</th>\n",
              "      <th>pixel6</th>\n",
              "      <th>pixel7</th>\n",
              "      <th>pixel8</th>\n",
              "      <th>...</th>\n",
              "      <th>pixel774</th>\n",
              "      <th>pixel775</th>\n",
              "      <th>pixel776</th>\n",
              "      <th>pixel777</th>\n",
              "      <th>pixel778</th>\n",
              "      <th>pixel779</th>\n",
              "      <th>pixel780</th>\n",
              "      <th>pixel781</th>\n",
              "      <th>pixel782</th>\n",
              "      <th>pixel783</th>\n",
              "    </tr>\n",
              "  </thead>\n",
              "  <tbody>\n",
              "    <tr>\n",
              "      <th>0</th>\n",
              "      <td>1</td>\n",
              "      <td>0</td>\n",
              "      <td>0</td>\n",
              "      <td>0</td>\n",
              "      <td>0</td>\n",
              "      <td>0</td>\n",
              "      <td>0</td>\n",
              "      <td>0</td>\n",
              "      <td>0</td>\n",
              "      <td>0</td>\n",
              "      <td>...</td>\n",
              "      <td>0</td>\n",
              "      <td>0</td>\n",
              "      <td>0</td>\n",
              "      <td>0</td>\n",
              "      <td>0</td>\n",
              "      <td>0</td>\n",
              "      <td>0</td>\n",
              "      <td>0</td>\n",
              "      <td>0</td>\n",
              "      <td>0</td>\n",
              "    </tr>\n",
              "    <tr>\n",
              "      <th>1</th>\n",
              "      <td>0</td>\n",
              "      <td>0</td>\n",
              "      <td>0</td>\n",
              "      <td>0</td>\n",
              "      <td>0</td>\n",
              "      <td>0</td>\n",
              "      <td>0</td>\n",
              "      <td>0</td>\n",
              "      <td>0</td>\n",
              "      <td>0</td>\n",
              "      <td>...</td>\n",
              "      <td>0</td>\n",
              "      <td>0</td>\n",
              "      <td>0</td>\n",
              "      <td>0</td>\n",
              "      <td>0</td>\n",
              "      <td>0</td>\n",
              "      <td>0</td>\n",
              "      <td>0</td>\n",
              "      <td>0</td>\n",
              "      <td>0</td>\n",
              "    </tr>\n",
              "    <tr>\n",
              "      <th>2</th>\n",
              "      <td>1</td>\n",
              "      <td>0</td>\n",
              "      <td>0</td>\n",
              "      <td>0</td>\n",
              "      <td>0</td>\n",
              "      <td>0</td>\n",
              "      <td>0</td>\n",
              "      <td>0</td>\n",
              "      <td>0</td>\n",
              "      <td>0</td>\n",
              "      <td>...</td>\n",
              "      <td>0</td>\n",
              "      <td>0</td>\n",
              "      <td>0</td>\n",
              "      <td>0</td>\n",
              "      <td>0</td>\n",
              "      <td>0</td>\n",
              "      <td>0</td>\n",
              "      <td>0</td>\n",
              "      <td>0</td>\n",
              "      <td>0</td>\n",
              "    </tr>\n",
              "    <tr>\n",
              "      <th>3</th>\n",
              "      <td>4</td>\n",
              "      <td>0</td>\n",
              "      <td>0</td>\n",
              "      <td>0</td>\n",
              "      <td>0</td>\n",
              "      <td>0</td>\n",
              "      <td>0</td>\n",
              "      <td>0</td>\n",
              "      <td>0</td>\n",
              "      <td>0</td>\n",
              "      <td>...</td>\n",
              "      <td>0</td>\n",
              "      <td>0</td>\n",
              "      <td>0</td>\n",
              "      <td>0</td>\n",
              "      <td>0</td>\n",
              "      <td>0</td>\n",
              "      <td>0</td>\n",
              "      <td>0</td>\n",
              "      <td>0</td>\n",
              "      <td>0</td>\n",
              "    </tr>\n",
              "    <tr>\n",
              "      <th>4</th>\n",
              "      <td>0</td>\n",
              "      <td>0</td>\n",
              "      <td>0</td>\n",
              "      <td>0</td>\n",
              "      <td>0</td>\n",
              "      <td>0</td>\n",
              "      <td>0</td>\n",
              "      <td>0</td>\n",
              "      <td>0</td>\n",
              "      <td>0</td>\n",
              "      <td>...</td>\n",
              "      <td>0</td>\n",
              "      <td>0</td>\n",
              "      <td>0</td>\n",
              "      <td>0</td>\n",
              "      <td>0</td>\n",
              "      <td>0</td>\n",
              "      <td>0</td>\n",
              "      <td>0</td>\n",
              "      <td>0</td>\n",
              "      <td>0</td>\n",
              "    </tr>\n",
              "  </tbody>\n",
              "</table>\n",
              "<p>5 rows × 785 columns</p>\n",
              "</div>\n",
              "    <div class=\"colab-df-buttons\">\n",
              "\n",
              "  <div class=\"colab-df-container\">\n",
              "    <button class=\"colab-df-convert\" onclick=\"convertToInteractive('df-7dc6df37-599b-4eda-a80e-8fdeb754af88')\"\n",
              "            title=\"Convert this dataframe to an interactive table.\"\n",
              "            style=\"display:none;\">\n",
              "\n",
              "  <svg xmlns=\"http://www.w3.org/2000/svg\" height=\"24px\" viewBox=\"0 -960 960 960\">\n",
              "    <path d=\"M120-120v-720h720v720H120Zm60-500h600v-160H180v160Zm220 220h160v-160H400v160Zm0 220h160v-160H400v160ZM180-400h160v-160H180v160Zm440 0h160v-160H620v160ZM180-180h160v-160H180v160Zm440 0h160v-160H620v160Z\"/>\n",
              "  </svg>\n",
              "    </button>\n",
              "\n",
              "  <style>\n",
              "    .colab-df-container {\n",
              "      display:flex;\n",
              "      gap: 12px;\n",
              "    }\n",
              "\n",
              "    .colab-df-convert {\n",
              "      background-color: #E8F0FE;\n",
              "      border: none;\n",
              "      border-radius: 50%;\n",
              "      cursor: pointer;\n",
              "      display: none;\n",
              "      fill: #1967D2;\n",
              "      height: 32px;\n",
              "      padding: 0 0 0 0;\n",
              "      width: 32px;\n",
              "    }\n",
              "\n",
              "    .colab-df-convert:hover {\n",
              "      background-color: #E2EBFA;\n",
              "      box-shadow: 0px 1px 2px rgba(60, 64, 67, 0.3), 0px 1px 3px 1px rgba(60, 64, 67, 0.15);\n",
              "      fill: #174EA6;\n",
              "    }\n",
              "\n",
              "    .colab-df-buttons div {\n",
              "      margin-bottom: 4px;\n",
              "    }\n",
              "\n",
              "    [theme=dark] .colab-df-convert {\n",
              "      background-color: #3B4455;\n",
              "      fill: #D2E3FC;\n",
              "    }\n",
              "\n",
              "    [theme=dark] .colab-df-convert:hover {\n",
              "      background-color: #434B5C;\n",
              "      box-shadow: 0px 1px 3px 1px rgba(0, 0, 0, 0.15);\n",
              "      filter: drop-shadow(0px 1px 2px rgba(0, 0, 0, 0.3));\n",
              "      fill: #FFFFFF;\n",
              "    }\n",
              "  </style>\n",
              "\n",
              "    <script>\n",
              "      const buttonEl =\n",
              "        document.querySelector('#df-7dc6df37-599b-4eda-a80e-8fdeb754af88 button.colab-df-convert');\n",
              "      buttonEl.style.display =\n",
              "        google.colab.kernel.accessAllowed ? 'block' : 'none';\n",
              "\n",
              "      async function convertToInteractive(key) {\n",
              "        const element = document.querySelector('#df-7dc6df37-599b-4eda-a80e-8fdeb754af88');\n",
              "        const dataTable =\n",
              "          await google.colab.kernel.invokeFunction('convertToInteractive',\n",
              "                                                    [key], {});\n",
              "        if (!dataTable) return;\n",
              "\n",
              "        const docLinkHtml = 'Like what you see? Visit the ' +\n",
              "          '<a target=\"_blank\" href=https://colab.research.google.com/notebooks/data_table.ipynb>data table notebook</a>'\n",
              "          + ' to learn more about interactive tables.';\n",
              "        element.innerHTML = '';\n",
              "        dataTable['output_type'] = 'display_data';\n",
              "        await google.colab.output.renderOutput(dataTable, element);\n",
              "        const docLink = document.createElement('div');\n",
              "        docLink.innerHTML = docLinkHtml;\n",
              "        element.appendChild(docLink);\n",
              "      }\n",
              "    </script>\n",
              "  </div>\n",
              "\n",
              "\n",
              "    <div id=\"df-fe50de86-3f8e-42f7-8c1e-1744993223f2\">\n",
              "      <button class=\"colab-df-quickchart\" onclick=\"quickchart('df-fe50de86-3f8e-42f7-8c1e-1744993223f2')\"\n",
              "                title=\"Suggest charts\"\n",
              "                style=\"display:none;\">\n",
              "\n",
              "<svg xmlns=\"http://www.w3.org/2000/svg\" height=\"24px\"viewBox=\"0 0 24 24\"\n",
              "     width=\"24px\">\n",
              "    <g>\n",
              "        <path d=\"M19 3H5c-1.1 0-2 .9-2 2v14c0 1.1.9 2 2 2h14c1.1 0 2-.9 2-2V5c0-1.1-.9-2-2-2zM9 17H7v-7h2v7zm4 0h-2V7h2v10zm4 0h-2v-4h2v4z\"/>\n",
              "    </g>\n",
              "</svg>\n",
              "      </button>\n",
              "\n",
              "<style>\n",
              "  .colab-df-quickchart {\n",
              "      --bg-color: #E8F0FE;\n",
              "      --fill-color: #1967D2;\n",
              "      --hover-bg-color: #E2EBFA;\n",
              "      --hover-fill-color: #174EA6;\n",
              "      --disabled-fill-color: #AAA;\n",
              "      --disabled-bg-color: #DDD;\n",
              "  }\n",
              "\n",
              "  [theme=dark] .colab-df-quickchart {\n",
              "      --bg-color: #3B4455;\n",
              "      --fill-color: #D2E3FC;\n",
              "      --hover-bg-color: #434B5C;\n",
              "      --hover-fill-color: #FFFFFF;\n",
              "      --disabled-bg-color: #3B4455;\n",
              "      --disabled-fill-color: #666;\n",
              "  }\n",
              "\n",
              "  .colab-df-quickchart {\n",
              "    background-color: var(--bg-color);\n",
              "    border: none;\n",
              "    border-radius: 50%;\n",
              "    cursor: pointer;\n",
              "    display: none;\n",
              "    fill: var(--fill-color);\n",
              "    height: 32px;\n",
              "    padding: 0;\n",
              "    width: 32px;\n",
              "  }\n",
              "\n",
              "  .colab-df-quickchart:hover {\n",
              "    background-color: var(--hover-bg-color);\n",
              "    box-shadow: 0 1px 2px rgba(60, 64, 67, 0.3), 0 1px 3px 1px rgba(60, 64, 67, 0.15);\n",
              "    fill: var(--button-hover-fill-color);\n",
              "  }\n",
              "\n",
              "  .colab-df-quickchart-complete:disabled,\n",
              "  .colab-df-quickchart-complete:disabled:hover {\n",
              "    background-color: var(--disabled-bg-color);\n",
              "    fill: var(--disabled-fill-color);\n",
              "    box-shadow: none;\n",
              "  }\n",
              "\n",
              "  .colab-df-spinner {\n",
              "    border: 2px solid var(--fill-color);\n",
              "    border-color: transparent;\n",
              "    border-bottom-color: var(--fill-color);\n",
              "    animation:\n",
              "      spin 1s steps(1) infinite;\n",
              "  }\n",
              "\n",
              "  @keyframes spin {\n",
              "    0% {\n",
              "      border-color: transparent;\n",
              "      border-bottom-color: var(--fill-color);\n",
              "      border-left-color: var(--fill-color);\n",
              "    }\n",
              "    20% {\n",
              "      border-color: transparent;\n",
              "      border-left-color: var(--fill-color);\n",
              "      border-top-color: var(--fill-color);\n",
              "    }\n",
              "    30% {\n",
              "      border-color: transparent;\n",
              "      border-left-color: var(--fill-color);\n",
              "      border-top-color: var(--fill-color);\n",
              "      border-right-color: var(--fill-color);\n",
              "    }\n",
              "    40% {\n",
              "      border-color: transparent;\n",
              "      border-right-color: var(--fill-color);\n",
              "      border-top-color: var(--fill-color);\n",
              "    }\n",
              "    60% {\n",
              "      border-color: transparent;\n",
              "      border-right-color: var(--fill-color);\n",
              "    }\n",
              "    80% {\n",
              "      border-color: transparent;\n",
              "      border-right-color: var(--fill-color);\n",
              "      border-bottom-color: var(--fill-color);\n",
              "    }\n",
              "    90% {\n",
              "      border-color: transparent;\n",
              "      border-bottom-color: var(--fill-color);\n",
              "    }\n",
              "  }\n",
              "</style>\n",
              "\n",
              "      <script>\n",
              "        async function quickchart(key) {\n",
              "          const quickchartButtonEl =\n",
              "            document.querySelector('#' + key + ' button');\n",
              "          quickchartButtonEl.disabled = true;  // To prevent multiple clicks.\n",
              "          quickchartButtonEl.classList.add('colab-df-spinner');\n",
              "          try {\n",
              "            const charts = await google.colab.kernel.invokeFunction(\n",
              "                'suggestCharts', [key], {});\n",
              "          } catch (error) {\n",
              "            console.error('Error during call to suggestCharts:', error);\n",
              "          }\n",
              "          quickchartButtonEl.classList.remove('colab-df-spinner');\n",
              "          quickchartButtonEl.classList.add('colab-df-quickchart-complete');\n",
              "        }\n",
              "        (() => {\n",
              "          let quickchartButtonEl =\n",
              "            document.querySelector('#df-fe50de86-3f8e-42f7-8c1e-1744993223f2 button');\n",
              "          quickchartButtonEl.style.display =\n",
              "            google.colab.kernel.accessAllowed ? 'block' : 'none';\n",
              "        })();\n",
              "      </script>\n",
              "    </div>\n",
              "\n",
              "    </div>\n",
              "  </div>\n"
            ],
            "application/vnd.google.colaboratory.intrinsic+json": {
              "type": "dataframe",
              "variable_name": "data"
            }
          },
          "metadata": {},
          "execution_count": 3
        }
      ]
    },
    {
      "cell_type": "code",
      "source": [
        "data=np.array(data) # to manipulate data\n",
        "#splitting data in to dev and training\n",
        "m, n = data.shape # m-rows, n-columns\n",
        "np.random.shuffle(data) #shuffling data\n",
        "data_dev = data[0:1000].T #transposing dev data of first 1000 columns\n",
        "Y_dev=data_dev[0] # extracting label\n",
        "X_dev=data_dev[1:n] #extracting pixels\n",
        "X_dev=X_dev / 255. #scaling\n",
        "data_train = data[1000:m].T # transposing training data of remaining columns\n",
        "Y_train=data_train[0] #extracting labels\n",
        "X_train=data_train[1:n] #extracting data\n",
        "X_train=X_train / 255. #scaling\n",
        "_, m_train = X_train.shape # getting number of rows and columns"
      ],
      "metadata": {
        "id": "fzZUf4lCgT8y"
      },
      "execution_count": null,
      "outputs": []
    },
    {
      "cell_type": "code",
      "source": [
        "def init_params():# this doesnot take any arguments because we creating it from scratch.\n",
        "  w1 = np.random.randn(10, 784)-0.5 # intializing the w1,b1,w2,b2 randomly\n",
        "  b1 = np.random.randn(10, 1)-0.5\n",
        "  w2 = np.random.randn(10, 10)-0.5\n",
        "  b2 = np.random.randn(10, 1)-0.5\n",
        "  return w1, b1, w2, b2\n",
        "\n",
        "def ReLU(z):\n",
        "  return np.maximum(0, z) # writing the relu activation function from scratch\n",
        "\n",
        "def softmax(z):\n",
        "  return np.exp(z)/np.sum(np.exp(z)) # writing softmax activation function from scratch\n",
        "def forward_prop(w1, b1, w2, b2, X):\n",
        "  z1 = w1.dot(X) + b1\n",
        "  A1 = ReLU(z1)                # forward propogation algorithm function\n",
        "  z2 = w2.dot(A1) + b2\n",
        "  A2 = softmax(A1)\n",
        "  return z1, A1, z2, A2\n",
        "\n",
        "def one_hot(Y):\n",
        "  one_hot_Y = np.zeros((Y.size, Y.max()+1)) # one hot encoding of original labels\n",
        "  one_hot_Y[np.arange(Y.size), Y] = 1\n",
        "  one_hot_Y = one_hot_Y.T\n",
        "  return one_hot_Y\n",
        "\n",
        "def ReLU_deriv(z): # relu derivative function from scratch\n",
        "  return z > 0\n",
        "def backward_prop(z1, A1, z2, A2, w2, X, Y):\n",
        "  one_hot_Y = one_hot(Y)\n",
        "  dz2 = A2 - one_hot_Y\n",
        "  dw2 = 1/m * dz2.dot(A1.T)   #backward propogation algorithm from scratch\n",
        "  db2 = 1/m * np.sum(dz2)\n",
        "  dz1 = w2.T.dot(dz2) * ReLU_deriv(z1)\n",
        "  dw1 = 1/m * dz1.dot(X.T)\n",
        "  db1 = 1/m * np.sum(dz1)\n",
        "  return dw1, db1, dw2, db2\n",
        "\n",
        "def update_params(w1, b1, w2, b2, dw1, db1, dw2, db2, alpha): # updating parameters function with learning rate and derivatives from scratch\n",
        "  w1 = w1 - alpha * dw1\n",
        "  b1 = b1 - alpha * db1\n",
        "  w2 = w2 - alpha * dw2\n",
        "  b2 = b2 - alpha * db2\n",
        "  return w1, b1, w2, b2"
      ],
      "metadata": {
        "id": "mn7tx3bFjvwl"
      },
      "execution_count": null,
      "outputs": []
    },
    {
      "cell_type": "code",
      "source": [
        "def get_predictions(A2):\n",
        "  return np.argmax(A2, 0)  # getting our predictions\n",
        "\n",
        "def get_accuracy(predictions, Y):\n",
        "  print(predictions, Y)     #comparing predictions and original labels function\n",
        "  return np.sum(predictions == Y) / Y.size\n",
        "\n",
        "def gradient_descent(X, Y, iterations, alpha): # gradient descent algorithm function\n",
        "  w1, b1, w2, b2 = init_params()\n",
        "  for i in range(iterations):\n",
        "    z1, A1, z2, A2 = forward_prop(w1, b1, w2, b2, X)\n",
        "    dw1, db1, dw2, db2 = backward_prop(z1, A1, z2, A2, w2, X, Y)\n",
        "    w1, b1, w2, b2 = update_params(w1, b1, w2, b2, dw1, db1, dw2, db2, alpha)\n",
        "    if i % 10 == 0:\n",
        "      print(\"Iteration: \", i)\n",
        "      predictions = get_predictions(A2)\n",
        "      print(get_accuracy(predictions, Y))\n",
        "  return w1, b1, w2, b2"
      ],
      "metadata": {
        "id": "bdM319c3HMEz"
      },
      "execution_count": null,
      "outputs": []
    },
    {
      "cell_type": "code",
      "source": [
        "w1, b1, w2, b2 = gradient_descent(X_train, Y_train,  500, 0.10) # apply the gradient descent on the training data"
      ],
      "metadata": {
        "colab": {
          "base_uri": "https://localhost:8080/"
        },
        "id": "lOQh0IvfIzf-",
        "outputId": "4eddc044-6591-443d-d5bc-a1a66f692389"
      },
      "execution_count": null,
      "outputs": [
        {
          "output_type": "stream",
          "name": "stdout",
          "text": [
            "Iteration:  0\n",
            "[0 0 0 ... 0 0 0] [6 9 9 ... 0 8 3]\n",
            "0.09858536585365854\n",
            "Iteration:  10\n",
            "[0 0 0 ... 0 0 0] [6 9 9 ... 0 8 3]\n",
            "0.09858536585365854\n",
            "Iteration:  20\n",
            "[0 0 0 ... 0 0 0] [6 9 9 ... 0 8 3]\n",
            "0.09858536585365854\n",
            "Iteration:  30\n",
            "[0 0 0 ... 0 0 0] [6 9 9 ... 0 8 3]\n",
            "0.09858536585365854\n",
            "Iteration:  40\n",
            "[0 0 0 ... 0 0 0] [6 9 9 ... 0 8 3]\n",
            "0.09858536585365854\n",
            "Iteration:  50\n",
            "[0 0 0 ... 0 0 0] [6 9 9 ... 0 8 3]\n",
            "0.09858536585365854\n",
            "Iteration:  60\n",
            "[0 0 0 ... 0 0 0] [6 9 9 ... 0 8 3]\n",
            "0.09858536585365854\n",
            "Iteration:  70\n",
            "[0 0 0 ... 0 0 0] [6 9 9 ... 0 8 3]\n",
            "0.09858536585365854\n",
            "Iteration:  80\n",
            "[0 0 0 ... 0 0 0] [6 9 9 ... 0 8 3]\n",
            "0.09858536585365854\n",
            "Iteration:  90\n",
            "[0 0 0 ... 0 0 0] [6 9 9 ... 0 8 3]\n",
            "0.09858536585365854\n",
            "Iteration:  100\n",
            "[0 0 0 ... 0 0 0] [6 9 9 ... 0 8 3]\n",
            "0.09858536585365854\n",
            "Iteration:  110\n",
            "[0 0 0 ... 0 0 0] [6 9 9 ... 0 8 3]\n",
            "0.09858536585365854\n",
            "Iteration:  120\n",
            "[0 0 0 ... 0 0 0] [6 9 9 ... 0 8 3]\n",
            "0.09858536585365854\n",
            "Iteration:  130\n",
            "[0 0 0 ... 0 0 0] [6 9 9 ... 0 8 3]\n",
            "0.09858536585365854\n",
            "Iteration:  140\n",
            "[0 0 0 ... 0 0 0] [6 9 9 ... 0 8 3]\n",
            "0.09858536585365854\n",
            "Iteration:  150\n",
            "[0 0 0 ... 0 0 0] [6 9 9 ... 0 8 3]\n",
            "0.09858536585365854\n",
            "Iteration:  160\n",
            "[0 0 0 ... 0 0 0] [6 9 9 ... 0 8 3]\n",
            "0.09858536585365854\n",
            "Iteration:  170\n",
            "[0 0 0 ... 0 0 0] [6 9 9 ... 0 8 3]\n",
            "0.09858536585365854\n",
            "Iteration:  180\n",
            "[0 0 0 ... 0 0 0] [6 9 9 ... 0 8 3]\n",
            "0.09858536585365854\n",
            "Iteration:  190\n",
            "[0 0 0 ... 0 0 0] [6 9 9 ... 0 8 3]\n",
            "0.09858536585365854\n",
            "Iteration:  200\n",
            "[0 0 0 ... 0 0 0] [6 9 9 ... 0 8 3]\n",
            "0.09858536585365854\n",
            "Iteration:  210\n",
            "[0 0 0 ... 0 0 0] [6 9 9 ... 0 8 3]\n",
            "0.09858536585365854\n",
            "Iteration:  220\n",
            "[0 0 0 ... 0 0 0] [6 9 9 ... 0 8 3]\n",
            "0.09858536585365854\n",
            "Iteration:  230\n",
            "[0 0 0 ... 0 0 0] [6 9 9 ... 0 8 3]\n",
            "0.09858536585365854\n",
            "Iteration:  240\n",
            "[0 0 0 ... 0 0 0] [6 9 9 ... 0 8 3]\n",
            "0.09858536585365854\n",
            "Iteration:  250\n",
            "[0 0 0 ... 0 0 0] [6 9 9 ... 0 8 3]\n",
            "0.09858536585365854\n",
            "Iteration:  260\n",
            "[0 0 0 ... 0 0 0] [6 9 9 ... 0 8 3]\n",
            "0.09858536585365854\n",
            "Iteration:  270\n",
            "[0 0 0 ... 0 0 0] [6 9 9 ... 0 8 3]\n",
            "0.09858536585365854\n",
            "Iteration:  280\n",
            "[0 0 0 ... 0 0 0] [6 9 9 ... 0 8 3]\n",
            "0.09858536585365854\n",
            "Iteration:  290\n",
            "[0 0 0 ... 0 0 0] [6 9 9 ... 0 8 3]\n",
            "0.09858536585365854\n",
            "Iteration:  300\n",
            "[0 0 0 ... 0 0 0] [6 9 9 ... 0 8 3]\n",
            "0.09858536585365854\n",
            "Iteration:  310\n",
            "[0 0 0 ... 0 0 0] [6 9 9 ... 0 8 3]\n",
            "0.09858536585365854\n",
            "Iteration:  320\n",
            "[0 0 0 ... 0 0 0] [6 9 9 ... 0 8 3]\n",
            "0.09858536585365854\n",
            "Iteration:  330\n",
            "[0 0 0 ... 0 0 0] [6 9 9 ... 0 8 3]\n",
            "0.09858536585365854\n",
            "Iteration:  340\n",
            "[0 0 0 ... 0 0 0] [6 9 9 ... 0 8 3]\n",
            "0.09858536585365854\n",
            "Iteration:  350\n",
            "[0 0 0 ... 0 0 0] [6 9 9 ... 0 8 3]\n",
            "0.09858536585365854\n",
            "Iteration:  360\n",
            "[0 0 0 ... 0 0 0] [6 9 9 ... 0 8 3]\n",
            "0.09858536585365854\n",
            "Iteration:  370\n",
            "[0 0 0 ... 0 0 0] [6 9 9 ... 0 8 3]\n",
            "0.09858536585365854\n",
            "Iteration:  380\n",
            "[0 0 0 ... 0 0 0] [6 9 9 ... 0 8 3]\n",
            "0.09858536585365854\n",
            "Iteration:  390\n",
            "[0 0 0 ... 0 0 0] [6 9 9 ... 0 8 3]\n",
            "0.09858536585365854\n",
            "Iteration:  400\n",
            "[0 0 0 ... 0 0 0] [6 9 9 ... 0 8 3]\n",
            "0.09858536585365854\n",
            "Iteration:  410\n",
            "[0 0 0 ... 0 0 0] [6 9 9 ... 0 8 3]\n",
            "0.09858536585365854\n",
            "Iteration:  420\n",
            "[0 0 0 ... 0 0 0] [6 9 9 ... 0 8 3]\n",
            "0.09858536585365854\n",
            "Iteration:  430\n",
            "[0 0 0 ... 0 0 0] [6 9 9 ... 0 8 3]\n",
            "0.09858536585365854\n",
            "Iteration:  440\n",
            "[0 0 0 ... 0 0 0] [6 9 9 ... 0 8 3]\n",
            "0.09858536585365854\n",
            "Iteration:  450\n",
            "[0 0 0 ... 0 0 0] [6 9 9 ... 0 8 3]\n",
            "0.09858536585365854\n",
            "Iteration:  460\n",
            "[0 0 0 ... 0 0 0] [6 9 9 ... 0 8 3]\n",
            "0.09858536585365854\n",
            "Iteration:  470\n",
            "[0 0 0 ... 0 0 0] [6 9 9 ... 0 8 3]\n",
            "0.09858536585365854\n",
            "Iteration:  480\n",
            "[0 0 0 ... 0 0 0] [6 9 9 ... 0 8 3]\n",
            "0.09858536585365854\n",
            "Iteration:  490\n",
            "[0 0 0 ... 0 0 0] [6 9 9 ... 0 8 3]\n",
            "0.09858536585365854\n"
          ]
        }
      ]
    },
    {
      "cell_type": "code",
      "source": [
        "def make_predictions(X, w1, b1, w2, b2):  # making predictions\n",
        "  _, _, _, A2 = forward_prop(w1, b1, w2, b2, X)\n",
        "  predictions = get_predictions(A2)\n",
        "  return predictions\n",
        "\n",
        "def test_predictions(index, w1, b1, w2, b2): # printing the prediction and original label with its image\n",
        "  current_image = X_train[:, index, None]\n",
        "  prediction = make_predictions(X_train[:, index, None], w1, b1, w2, b2)\n",
        "  label = Y_train[index]\n",
        "  print(\"Prediction: \", prediction)\n",
        "  print(\"Label: \", label)\n",
        "  current_image = current_image.reshape((28, 28)) * 255\n",
        "  plt.gray()\n",
        "  plt.imshow(current_image, interpolation='nearest')\n",
        "  plt.show()"
      ],
      "metadata": {
        "id": "Qjag0OK3L-cQ"
      },
      "execution_count": null,
      "outputs": []
    },
    {
      "cell_type": "code",
      "source": [
        "test_predictions(0, w1, b1, w2, b2)\n",
        "test_predictions(1, w1, b1, w2, b2)\n",
        "test_predictions(2, w1, b1, w2, b2)\n",
        "test_predictions(3, w1, b1, w2, b2)"
      ],
      "metadata": {
        "colab": {
          "base_uri": "https://localhost:8080/",
          "height": 1000
        },
        "id": "N7ISGd8rMdit",
        "outputId": "94c1360f-41ed-4b83-ca9a-1faa526bd422"
      },
      "execution_count": null,
      "outputs": [
        {
          "output_type": "stream",
          "name": "stdout",
          "text": [
            "Prediction:  [0]\n",
            "Label:  6\n"
          ]
        },
        {
          "output_type": "display_data",
          "data": {
            "text/plain": [
              "<Figure size 640x480 with 1 Axes>"
            ],
            "image/png": "[encoded data removed]"
          },
          "metadata": {}
        },
        {
          "output_type": "stream",
          "name": "stdout",
          "text": [
            "Prediction:  [0]\n",
            "Label:  9\n"
          ]
        },
        {
          "output_type": "display_data",
          "data": {
            "text/plain": [
              "<Figure size 640x480 with 1 Axes>"
            ],
            "image/png": "[encoded data removed]"
          },
          "metadata": {}
        },
        {
          "output_type": "stream",
          "name": "stdout",
          "text": [
            "Prediction:  [0]\n",
            "Label:  9\n"
          ]
        },
        {
          "output_type": "display_data",
          "data": {
            "text/plain": [
              "<Figure size 640x480 with 1 Axes>"
            ],
            "image/png": "[encoded data removed]"
          },
          "metadata": {}
        },
        {
          "output_type": "stream",
          "name": "stdout",
          "text": [
            "Prediction:  [0]\n",
            "Label:  0\n"
          ]
        },
        {
          "output_type": "display_data",
          "data": {
            "text/plain": [
              "<Figure size 640x480 with 1 Axes>"
            ],
            "image/png": "[encoded data removed]"
          },
          "metadata": {}
        }
      ]
    },
    {
      "cell_type": "code",
      "source": [
        "dev_predictions = make_predictions(X_dev, w1, b1, w2, b2) # making predictions on dev data\n",
        "get_accuracy(dev_predictions, Y_dev) # comparing with original labels of dev data"
      ],
      "metadata": {
        "colab": {
          "base_uri": "https://localhost:8080/"
        },
        "id": "2YVF8ShqNUjI",
        "outputId": "a4dae95f-3cd6-4f5f-997c-6dea79b8e196"
      },
      "execution_count": null,
      "outputs": [
        {
          "output_type": "stream",
          "name": "stdout",
          "text": [
            "[0 0 0 0 0 0 0 0 0 0 0 0 0 0 0 0 0 0 0 0 0 0 0 0 0 0 0 0 0 0 0 0 0 0 0 0 0\n",
            " 0 0 0 0 0 0 0 0 0 0 0 0 0 0 0 0 0 0 0 0 0 0 0 0 0 0 0 0 0 0 0 0 0 0 0 0 0\n",
            " 0 0 0 0 0 0 0 0 0 0 0 0 0 0 0 0 0 0 0 0 0 0 0 0 0 0 0 0 0 0 0 0 0 0 0 0 0\n",
            " 0 0 0 0 0 0 0 0 0 0 0 0 0 0 0 0 0 0 0 0 0 0 0 0 0 0 0 0 0 0 0 0 0 0 0 0 0\n",
            " 0 0 0 0 0 0 0 0 0 0 0 0 0 0 0 0 0 0 0 0 0 0 0 0 0 0 0 0 0 0 0 0 0 0 0 0 0\n",
            " 0 0 0 0 0 0 0 0 0 0 0 0 0 0 0 0 0 0 0 0 0 0 0 0 0 0 0 0 0 0 0 0 0 0 0 0 0\n",
            " 0 0 0 0 0 0 0 0 0 0 0 0 0 0 0 0 0 0 0 0 0 0 0 0 0 0 0 0 0 0 0 0 0 0 0 0 0\n",
            " 0 0 0 0 0 0 0 0 0 0 0 0 0 0 0 0 0 0 0 0 0 0 0 0 0 0 0 0 0 0 0 0 0 0 0 0 0\n",
            " 0 0 0 0 0 0 0 0 0 0 0 0 0 0 0 0 0 0 0 0 0 0 0 0 0 0 0 0 0 0 0 0 0 0 0 0 0\n",
            " 0 0 0 0 0 0 0 0 0 0 0 0 0 0 0 0 0 0 0 0 0 0 0 0 0 0 0 0 0 0 0 0 0 0 0 0 0\n",
            " 0 0 0 0 0 0 0 0 0 0 0 0 0 0 0 0 0 0 0 0 0 0 0 0 0 0 0 0 0 0 0 0 0 0 0 0 0\n",
            " 0 0 0 0 0 0 0 0 0 0 0 0 0 0 0 0 0 0 0 0 0 0 0 0 0 0 0 0 0 0 0 0 0 0 0 0 0\n",
            " 0 0 0 0 0 0 0 0 0 0 0 0 0 0 0 0 0 0 0 0 0 0 0 0 0 0 0 0 0 0 0 0 0 0 0 0 0\n",
            " 0 0 0 0 0 0 0 0 0 0 0 0 0 0 0 0 0 0 0 0 0 0 0 0 0 0 0 0 0 0 0 0 0 0 0 0 0\n",
            " 0 0 0 0 0 0 0 0 0 0 0 0 0 0 0 0 0 0 0 0 0 0 0 0 0 0 0 0 0 0 0 0 0 0 0 0 0\n",
            " 0 0 0 0 0 0 0 0 0 0 0 0 0 0 0 0 0 0 0 0 0 0 0 0 0 0 0 0 0 0 0 0 0 0 0 0 0\n",
            " 0 0 0 0 0 0 0 0 0 0 0 0 0 0 0 0 0 0 0 0 0 0 0 0 0 0 0 0 0 0 0 0 0 0 0 0 0\n",
            " 0 0 0 0 0 0 0 0 0 0 0 0 0 0 0 0 0 0 0 0 0 0 0 0 0 0 0 0 0 0 0 0 0 0 0 0 0\n",
            " 0 0 0 0 0 0 0 0 0 0 0 0 0 0 0 0 0 0 0 0 0 0 0 0 0 0 0 0 0 0 0 0 0 0 0 0 0\n",
            " 0 0 0 0 0 0 0 0 0 0 0 0 0 0 0 0 0 0 0 0 0 0 0 0 0 0 0 0 0 0 0 0 0 0 0 0 0\n",
            " 0 0 0 0 0 0 0 0 0 0 0 0 0 0 0 0 0 0 0 0 0 0 0 0 0 0 0 0 0 0 0 0 0 0 0 0 0\n",
            " 0 0 0 0 0 0 0 0 0 0 0 0 0 0 0 0 0 0 0 0 0 0 0 0 0 0 0 0 0 0 0 0 0 0 0 0 0\n",
            " 0 0 0 0 0 0 0 0 0 0 0 0 0 0 0 0 0 0 0 0 0 0 0 0 0 0 0 0 0 0 0 0 0 0 0 0 0\n",
            " 0 0 0 0 0 0 0 0 0 0 0 0 0 0 0 0 0 0 0 0 0 0 0 0 0 0 0 0 0 0 0 0 0 0 0 0 0\n",
            " 0 0 0 0 0 0 0 0 0 0 0 0 0 0 0 0 0 0 0 0 0 0 0 0 0 0 0 0 0 0 0 0 0 0 0 0 0\n",
            " 0 0 0 0 0 0 0 0 0 0 0 0 0 0 0 0 0 0 0 0 0 0 0 0 0 0 0 0 0 0 0 0 0 0 0 0 0\n",
            " 0 0 0 0 0 0 0 0 0 0 0 0 0 0 0 0 0 0 0 0 0 0 0 0 0 0 0 0 0 0 0 0 0 0 0 0 0\n",
            " 0] [3 9 1 5 1 2 5 0 3 8 9 2 8 0 0 3 3 1 6 4 0 4 8 2 1 1 6 9 1 2 2 6 8 4 6 3 9\n",
            " 7 3 7 1 2 4 5 1 5 4 8 2 0 7 9 4 9 2 4 9 9 4 1 9 5 9 4 1 3 9 4 3 4 8 5 7 7\n",
            " 6 8 3 4 1 3 3 4 2 5 1 6 7 1 9 4 2 8 7 3 8 5 1 0 7 0 2 6 2 4 0 8 7 7 8 4 4\n",
            " 8 8 9 8 6 7 6 9 7 4 0 1 5 2 3 7 0 2 0 6 6 2 4 1 0 1 2 7 1 4 1 2 4 1 3 7 2\n",
            " 1 3 8 3 7 4 8 2 2 1 2 7 1 2 7 3 2 0 3 5 8 7 3 3 1 6 0 3 1 5 2 1 4 5 6 1 5\n",
            " 9 0 8 1 6 1 1 4 4 1 3 1 2 3 8 1 5 7 2 1 2 8 9 9 4 5 2 8 3 7 9 2 6 7 6 1 5\n",
            " 7 6 2 2 9 3 1 9 4 6 6 9 1 4 1 9 1 4 5 4 8 8 3 2 6 6 6 6 2 2 4 2 6 1 5 1 0\n",
            " 8 4 8 3 9 9 3 1 6 4 4 8 1 8 6 0 1 5 6 5 6 4 2 2 7 5 6 9 3 4 7 2 1 7 9 4 8\n",
            " 3 0 1 9 9 7 1 4 7 5 9 0 1 1 9 1 8 4 5 5 2 1 7 2 2 3 0 1 0 6 7 9 8 0 9 1 8\n",
            " 1 7 0 0 8 2 7 0 1 9 4 2 1 5 6 4 4 3 7 4 4 8 2 8 2 9 1 4 9 7 9 9 0 5 0 4 4\n",
            " 4 5 0 6 9 7 8 5 5 0 1 2 3 2 7 7 8 4 6 8 0 3 2 9 1 6 7 6 7 1 5 6 7 2 6 0 3\n",
            " 2 8 2 3 8 4 1 9 1 2 4 0 6 6 7 0 2 1 5 0 7 1 2 9 0 3 6 0 4 7 9 3 2 3 4 7 1\n",
            " 3 5 2 9 6 8 4 1 2 1 9 0 5 5 6 0 4 1 2 5 1 6 7 1 3 8 9 6 2 0 2 0 0 2 4 2 6\n",
            " 7 0 2 1 6 9 6 8 8 2 3 1 3 1 3 2 3 1 0 2 8 8 0 7 0 6 2 5 9 9 3 3 6 8 2 4 9\n",
            " 4 8 7 3 3 1 7 1 5 3 5 7 0 3 8 5 1 1 4 1 2 9 9 9 5 4 4 4 0 5 7 7 0 0 5 1 9\n",
            " 6 1 9 5 9 5 8 1 3 3 4 3 1 5 9 3 6 6 6 6 0 3 6 6 4 1 6 8 3 7 4 4 1 0 6 8 9\n",
            " 8 8 3 2 5 3 0 7 0 6 8 2 7 1 1 3 5 3 6 9 6 8 3 7 3 9 7 9 6 1 6 5 5 1 9 3 4\n",
            " 4 8 2 3 7 7 2 6 7 0 5 1 9 6 2 5 8 3 6 3 9 1 7 1 9 7 4 1 4 8 3 2 2 8 7 6 1\n",
            " 8 7 2 6 8 5 6 4 4 2 9 4 2 0 8 7 8 4 8 3 1 4 1 2 7 0 1 3 0 1 2 8 4 2 7 6 8\n",
            " 2 7 9 1 5 1 4 5 1 5 5 1 9 2 3 8 5 8 0 7 2 2 5 7 0 9 0 2 8 9 8 4 0 2 3 6 9\n",
            " 0 8 3 0 1 5 0 7 3 4 9 4 7 3 4 2 4 4 9 5 1 5 3 6 5 7 0 1 3 3 5 3 9 9 3 7 3\n",
            " 0 4 9 0 6 4 1 8 4 2 7 1 9 3 4 0 5 6 0 3 7 1 9 1 8 2 9 7 1 7 1 7 2 8 0 8 7\n",
            " 5 3 1 1 9 6 6 3 9 6 6 0 9 6 0 9 5 9 2 1 4 5 7 5 5 6 9 2 1 6 5 8 9 3 1 2 1\n",
            " 6 5 2 2 6 9 6 1 6 5 7 7 4 6 5 0 3 4 5 4 3 3 2 8 0 2 4 2 1 1 1 1 8 5 7 8 8\n",
            " 8 5 3 5 7 7 6 4 0 0 1 6 4 4 2 6 6 3 7 0 4 1 2 2 3 0 0 5 0 6 1 1 2 0 6 6 3\n",
            " 4 7 8 3 5 7 1 6 5 1 6 5 0 0 2 6 8 0 9 8 8 3 7 3 2 1 9 1 2 6 6 9 8 2 9 8 6\n",
            " 3 1 2 9 4 1 0 1 7 9 7 3 6 0 1 7 8 9 1 7 9 6 1 7 5 9 1 4 7 0 3 4 0 4 0 0 4\n",
            " 2]\n"
          ]
        },
        {
          "output_type": "execute_result",
          "data": {
            "text/plain": [
              "np.float64(0.09)"
            ]
          },
          "metadata": {},
          "execution_count": 10
        }
      ]
    }
  ]
}